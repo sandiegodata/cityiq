{
 "cells": [
  {
   "cell_type": "markdown",
   "metadata": {
    "tags": [
     "Title"
    ]
   },
   "source": [
    "# San Diego CityIq Pedestrian Events"
   ]
  },
  {
   "cell_type": "markdown",
   "metadata": {
    "tags": [
     "Description"
    ]
   },
   "source": [
    "This dataset contains scraped pedestrian events from the San Diego CityIQ system, starting from October 2018."
   ]
  },
  {
   "cell_type": "markdown",
   "metadata": {
    "tags": [
     "readme"
    ]
   },
   "source": [
    "Before building this package, the pedestrain events must be scraped and cached with: \n",
    "\n",
    "```\n",
    "    $ ciq_events -t 20180801 -s ped\n",
    "```\n",
    "\n",
    "The dataset includes only the ``locationUid`` to identify the locations. Refer to the [San Diego City IQ Assets and Locations](https://data.sandiegodata.org/dataset/sandiego-gov-cityiq_objects) dataset for complete metadata for the locations."
   ]
  },
  {
   "cell_type": "raw",
   "metadata": {
    "tags": [
     "metadata"
    ]
   },
   "source": [
    "Name: cityiq.io-events-sandiego-pedevt-1\n",
    "Origin: cityiq.io\n",
    "Dataset: events\n",
    "Version: 1\n",
    "Space: sandiego\n",
    "Grain: pedevt\n",
    "Created: 2019-04-01T22:12:39\n",
    "Identifier: 420922a0-06ce-4299-8b16-30ff9e713509\n",
    "Giturl: https://github.com/sandiegodata/cityiq.git\n",
    "\n",
    "Section: Documentation|Title|Description\n",
    "\n",
    "Section: Contacts|Email|Organization|Url\n",
    "Wrangler: Eric Busboom\n",
    "    .Email: eric@civicknowledge.com\n",
    "    .Organization: Civic Knowledge\n",
    "    .Url: http://civicknowledge.com"
   ]
  },
  {
   "cell_type": "raw",
   "metadata": {
    "tags": [
     "resources"
    ]
   },
   "source": [
    "Section: References|Name|Description|\n",
    "\n",
    "Section: Resources|Name|Description|\n",
    "Datafile: ./cityiq.io-events-sandiego-pedevt.ipynb#df\n",
    "    .Name: ped_events\n",
    "    .Description: Pedestrian events from October 2018 to present"
   ]
  },
  {
   "cell_type": "code",
   "execution_count": 1,
   "metadata": {
    "tags": [
     "init"
    ]
   },
   "outputs": [
    {
     "data": {
      "text/plain": [
       "'0.24.2'"
      ]
     },
     "execution_count": 1,
     "metadata": {},
     "output_type": "execute_result"
    }
   ],
   "source": [
    "import seaborn as sns\n",
    "import metapack as mp\n",
    "import pandas as pd\n",
    "import numpy as np\n",
    "import matplotlib.pyplot as plt\n",
    "from IPython.display import display \n",
    "\n",
    "%matplotlib inline\n",
    "sns.set_context('notebook')\n",
    "mp.jupyter.init()\n",
    "this_package_name = 'cityiq.io-events-sandiego-pedevt.ipynb'\n",
    "\n",
    "%load_ext autoreload\n",
    "%autoreload 2\n",
    "pd.__version__"
   ]
  },
  {
   "cell_type": "code",
   "execution_count": 2,
   "metadata": {},
   "outputs": [
    {
     "data": {
      "text/html": [
       "<h1>San Diego CityIq Pedestrian Events</h1>\n",
       "<p><code>cityiq.io-events-sandiego-pedevt-1</code> Last Update: </p>\n",
       "<p><em>This dataset contains scraped pedestrian events from the San Diego CityIQ system, starting from October 2018.</em></p>\n",
       "<h2>Contacts</h2>\n",
       "<ul>\n",
       "<li><strong>Wrangler</strong> <a href=\"mailto:eric@civicknowledge.com\">Eric Busboom</a>, <a href=\"http://civicknowledge.com\">Civic Knowledge</a></li>\n",
       "</ul>\n",
       "<h2>Resources</h2>\n",
       "<ul>\n",
       "<li><strong> <a href=\"./cityiq.io-events-sandiego-pedevt.ipynb#df\">ped_events</a></strong>. Pedestrian events from October 2018 to present</li>\n",
       "</ul>"
      ],
      "text/plain": [
       "<metapack.doc.MetapackDoc at 0x111dce5c0>"
      ]
     },
     "execution_count": 2,
     "metadata": {},
     "output_type": "execute_result"
    }
   ],
   "source": [
    "pkg = mp.open_package(this_package_name)\n",
    "pkg"
   ]
  },
  {
   "cell_type": "code",
   "execution_count": 3,
   "metadata": {},
   "outputs": [],
   "source": [
    "%matplotlib inline\n",
    "import cityiq as ciq\n",
    "from cityiq.scrape import LocationEventScraper, PedLocationEventScraper\n",
    "from datetime import datetime, timezone, timedelta\n",
    "from dateutil.relativedelta import relativedelta\n",
    "from dateutil.parser import parse as parse_dt\n",
    "from cityiq import Config, CityIq\n",
    "import gc\n",
    "\n",
    "import warnings\n",
    "warnings.simplefilter(\"ignore\") # tqdm autonotebook experimental warnings"
   ]
  },
  {
   "cell_type": "code",
   "execution_count": 4,
   "metadata": {},
   "outputs": [],
   "source": [
    "tz = datetime.now(timezone.utc).astimezone().tzinfo\n",
    "start_time = parse_dt('2018-08-01').replace(tzinfo=tz)\n",
    "end_time = datetime.utcnow().replace(tzinfo=timezone.utc).replace(day=1)\n",
    "#end_time = start_time +  relativedelta(months=1)\n",
    "\n",
    "config = Config()\n",
    "\n",
    "s = PedLocationEventScraper(config, None, start_time, end_time)\n",
    "#s.cache_csv_files()"
   ]
  },
  {
   "cell_type": "code",
   "execution_count": 8,
   "metadata": {},
   "outputs": [
    {
     "data": {
      "application/vnd.jupyter.widget-view+json": {
       "model_id": "67f5f1c0952649e3ba74dc3c61435dbc",
       "version_major": 2,
       "version_minor": 0
      },
      "text/html": [
       "<p>Failed to display Jupyter Widget of type <code>HBox</code>.</p>\n",
       "<p>\n",
       "  If you're reading this message in the Jupyter Notebook or JupyterLab Notebook, it may mean\n",
       "  that the widgets JavaScript is still loading. If this message persists, it\n",
       "  likely means that the widgets JavaScript library is either not installed or\n",
       "  not enabled. See the <a href=\"https://ipywidgets.readthedocs.io/en/stable/user_install.html\">Jupyter\n",
       "  Widgets Documentation</a> for setup instructions.\n",
       "</p>\n",
       "<p>\n",
       "  If you're reading this message in another frontend (for example, a static\n",
       "  rendering on GitHub or <a href=\"https://nbviewer.jupyter.org/\">NBViewer</a>),\n",
       "  it may mean that your frontend doesn't currently support widgets.\n",
       "</p>\n"
      ],
      "text/plain": [
       "HBox(children=(IntProgress(value=0, description='Concat dataframe', max=6951, style=ProgressStyle(description_width='initial')), HTML(value='')))"
      ]
     },
     "metadata": {},
     "output_type": "display_data"
    },
    {
     "name": "stdout",
     "output_type": "stream",
     "text": [
      "\n"
     ]
    },
    {
     "ename": "KeyboardInterrupt",
     "evalue": "",
     "output_type": "error",
     "traceback": [
      "\u001b[0;31m---------------------------------------------------------------------------\u001b[0m",
      "\u001b[0;31mKeyboardInterrupt\u001b[0m                         Traceback (most recent call last)",
      "\u001b[0;32m~/proj/virt/metapack/lib/python3.6/site-packages/pandas/core/series.py\u001b[0m in \u001b[0;36mapply\u001b[0;34m(self, func, convert_dtype, args, **kwds)\u001b[0m\n\u001b[1;32m   3590\u001b[0m                 \u001b[0mvalues\u001b[0m \u001b[0;34m=\u001b[0m \u001b[0mself\u001b[0m\u001b[0;34m.\u001b[0m\u001b[0mastype\u001b[0m\u001b[0;34m(\u001b[0m\u001b[0mobject\u001b[0m\u001b[0;34m)\u001b[0m\u001b[0;34m.\u001b[0m\u001b[0mvalues\u001b[0m\u001b[0;34m\u001b[0m\u001b[0m\n\u001b[0;32m-> 3591\u001b[0;31m                 \u001b[0mmapped\u001b[0m \u001b[0;34m=\u001b[0m \u001b[0mlib\u001b[0m\u001b[0;34m.\u001b[0m\u001b[0mmap_infer\u001b[0m\u001b[0;34m(\u001b[0m\u001b[0mvalues\u001b[0m\u001b[0;34m,\u001b[0m \u001b[0mf\u001b[0m\u001b[0;34m,\u001b[0m \u001b[0mconvert\u001b[0m\u001b[0;34m=\u001b[0m\u001b[0mconvert_dtype\u001b[0m\u001b[0;34m)\u001b[0m\u001b[0;34m\u001b[0m\u001b[0m\n\u001b[0m\u001b[1;32m   3592\u001b[0m \u001b[0;34m\u001b[0m\u001b[0m\n",
      "\u001b[0;32mpandas/_libs/lib.pyx\u001b[0m in \u001b[0;36mpandas._libs.lib.map_infer\u001b[0;34m()\u001b[0m\n",
      "\u001b[0;32m<timed exec>\u001b[0m in \u001b[0;36m<lambda>\u001b[0;34m(v)\u001b[0m\n",
      "\u001b[0;31mKeyboardInterrupt\u001b[0m: ",
      "\nDuring handling of the above exception, another exception occurred:\n",
      "\u001b[0;31mKeyboardInterrupt\u001b[0m                         Traceback (most recent call last)",
      "\u001b[0;32m<timed exec>\u001b[0m in \u001b[0;36m<module>\u001b[0;34m()\u001b[0m\n",
      "\u001b[0;32m~/proj/virt/metapack/lib/python3.6/site-packages/pandas/core/series.py\u001b[0m in \u001b[0;36mapply\u001b[0;34m(self, func, convert_dtype, args, **kwds)\u001b[0m\n\u001b[1;32m   3589\u001b[0m             \u001b[0;32melse\u001b[0m\u001b[0;34m:\u001b[0m\u001b[0;34m\u001b[0m\u001b[0m\n\u001b[1;32m   3590\u001b[0m                 \u001b[0mvalues\u001b[0m \u001b[0;34m=\u001b[0m \u001b[0mself\u001b[0m\u001b[0;34m.\u001b[0m\u001b[0mastype\u001b[0m\u001b[0;34m(\u001b[0m\u001b[0mobject\u001b[0m\u001b[0;34m)\u001b[0m\u001b[0;34m.\u001b[0m\u001b[0mvalues\u001b[0m\u001b[0;34m\u001b[0m\u001b[0m\n\u001b[0;32m-> 3591\u001b[0;31m                 \u001b[0mmapped\u001b[0m \u001b[0;34m=\u001b[0m \u001b[0mlib\u001b[0m\u001b[0;34m.\u001b[0m\u001b[0mmap_infer\u001b[0m\u001b[0;34m(\u001b[0m\u001b[0mvalues\u001b[0m\u001b[0;34m,\u001b[0m \u001b[0mf\u001b[0m\u001b[0;34m,\u001b[0m \u001b[0mconvert\u001b[0m\u001b[0;34m=\u001b[0m\u001b[0mconvert_dtype\u001b[0m\u001b[0;34m)\u001b[0m\u001b[0;34m\u001b[0m\u001b[0m\n\u001b[0m\u001b[1;32m   3592\u001b[0m \u001b[0;34m\u001b[0m\u001b[0m\n\u001b[1;32m   3593\u001b[0m         \u001b[0;32mif\u001b[0m \u001b[0mlen\u001b[0m\u001b[0;34m(\u001b[0m\u001b[0mmapped\u001b[0m\u001b[0;34m)\u001b[0m \u001b[0;32mand\u001b[0m \u001b[0misinstance\u001b[0m\u001b[0;34m(\u001b[0m\u001b[0mmapped\u001b[0m\u001b[0;34m[\u001b[0m\u001b[0;36m0\u001b[0m\u001b[0;34m]\u001b[0m\u001b[0;34m,\u001b[0m \u001b[0mSeries\u001b[0m\u001b[0;34m)\u001b[0m\u001b[0;34m:\u001b[0m\u001b[0;34m\u001b[0m\u001b[0m\n",
      "\u001b[0;31mKeyboardInterrupt\u001b[0m: "
     ]
    }
   ],
   "source": [
    "%%time \n",
    "df = s.cached_dataframe()\n",
    "\n",
    "df['time'] =  pd.to_datetime(df['time']/1000,unit='s')\\\n",
    "                .dt.tz_localize('UTC', ambiguous=True, nonexistent='shift_forward')\\\n",
    "                .dt.tz_convert('America/Los_Angeles')\\\n",
    "                .dt.tz_localize(None)\\\n",
    "                .apply(lambda v: v.replace(nanosecond=0, microsecond=0,  second=0, minute=int(v.minute/15)*15))\n",
    "\n",
    "df.drop(columns=['direction','speed', 'index'], inplace=True)\n",
    "df = df.groupby(['time','location_uid']).sum()\n",
    "gc.collect() \n",
    "\n",
    "len(df)"
   ]
  },
  {
   "cell_type": "code",
   "execution_count": null,
   "metadata": {},
   "outputs": [],
   "source": [
    "%time df.to_csv('pedestrians.csv')"
   ]
  },
  {
   "cell_type": "code",
   "execution_count": 7,
   "metadata": {},
   "outputs": [],
   "source": [
    "if False: # Save for later\n",
    "    import metapack as mp\n",
    "    alpkg = mp.open_package('http://library.metatab.org/sandiego.gov-cityiq_objects-4.csv')\n",
    "\n",
    "    locations = alpkg.resource('locations').dataframe()\n",
    "    loc = locations[['locationuid','community_name']].rename(columns={'locationuid':'location_uid'})\n",
    "    loc.head()"
   ]
  },
  {
   "cell_type": "raw",
   "metadata": {
    "tags": [
     "schema"
    ]
   },
   "source": [
    "Section: Schema|AltName|DataType|Description\n",
    "Table: ped_events\n",
    "Table.Column: time\n",
    "    .Datatype: datetime\n",
    "Table.Column: location_uid\n",
    "    .Datatype: string\n",
    "Table.Column: index\n",
    "    .Datatype: integer\n",
    "Table.Column: count\n",
    "    .Datatype: integer"
   ]
  }
 ],
 "metadata": {
  "celltoolbar": "Tags",
  "kernelspec": {
   "display_name": "Python 3",
   "language": "python",
   "name": "python3"
  },
  "language_info": {
   "codemirror_mode": {
    "name": "ipython",
    "version": 3
   },
   "file_extension": ".py",
   "mimetype": "text/x-python",
   "name": "python",
   "nbconvert_exporter": "python",
   "pygments_lexer": "ipython3",
   "version": "3.6.0"
  }
 },
 "nbformat": 4,
 "nbformat_minor": 2
}
