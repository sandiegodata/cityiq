{
 "cells": [
  {
   "cell_type": "code",
   "execution_count": null,
   "metadata": {},
   "outputs": [],
   "source": [
    "import seaborn as sns\n",
    "import metapack as mp\n",
    "import pandas as pd\n",
    "import numpy as np\n",
    "import matplotlib.pyplot as plt\n",
    "from IPython.display import display \n",
    "\n",
    "%matplotlib inline\n",
    "sns.set_context('notebook')\n",
    "mp.jupyter.init()"
   ]
  },
  {
   "cell_type": "code",
   "execution_count": null,
   "metadata": {},
   "outputs": [],
   "source": [
    "pkg = mp.open_package('index:cityiq.io-events-sandiego-pedevt')\n",
    "pkg"
   ]
  },
  {
   "cell_type": "code",
   "execution_count": null,
   "metadata": {},
   "outputs": [],
   "source": [
    "#df = pkg.resource('ped_events').read_csv(dtype={'location_uid':str})\n",
    "#df.head()\n",
    "\n",
    "\n"
   ]
  },
  {
   "cell_type": "code",
   "execution_count": null,
   "metadata": {},
   "outputs": [],
   "source": [
    "df = pd.read_csv('/Users/eric/proj/virt-proj/metapack/cityiq/packages/pedestrians.csv')"
   ]
  },
  {
   "cell_type": "code",
   "execution_count": null,
   "metadata": {},
   "outputs": [],
   "source": [
    "len(df)"
   ]
  },
  {
   "cell_type": "code",
   "execution_count": null,
   "metadata": {},
   "outputs": [],
   "source": [
    "s = df.iloc[:1000].copy()\n",
    "s['timedt'] = pd.to_datetime(s.timedt)"
   ]
  },
  {
   "cell_type": "code",
   "execution_count": null,
   "metadata": {},
   "outputs": [],
   "source": [
    "t = s[['timedt','location_uid','count']].set_index('timedt').groupby([pd.Grouper(freq='15min'), 'location_uid']).sum()\n",
    "t.head()"
   ]
  },
  {
   "cell_type": "code",
   "execution_count": null,
   "metadata": {},
   "outputs": [],
   "source": [
    "df['timedt'] = pd.to_datetime(df.timedt)\n"
   ]
  },
  {
   "cell_type": "code",
   "execution_count": null,
   "metadata": {},
   "outputs": [],
   "source": [
    "t = df[['timedt','location_uid','count']].set_index('timedt').groupby([pd.Grouper(freq='15min'), 'location_uid']).sum()\n",
    "t.head()"
   ]
  },
  {
   "cell_type": "code",
   "execution_count": null,
   "metadata": {},
   "outputs": [],
   "source": [
    "t = dfm.groupby( [dfm.time.dt.hour,'community_name']).sum().reset_index()[['time','community_name','count']]\n",
    "g = sns.FacetGrid(t, col=\"community_name\", col_wrap=4, sharey=False)\n",
    "g.map(plt.plot, \"time\",'count');"
   ]
  },
  {
   "cell_type": "code",
   "execution_count": null,
   "metadata": {},
   "outputs": [],
   "source": [
    "t = dfm.groupby([dfm.time.dt.hour, 'community_name']).sum().reset_index()\n",
    "g = t.groupby('community_name')\n",
    "\n",
    "def yield_rows():\n",
    "    for community_name, x in g:\n",
    "        yield community_name, x.loc[x['count'].idxmax()].time\n",
    "    \n",
    "com = pd.DataFrame(list(yield_rows()), columns = 'community hour'.split())\n",
    "com.sort_values('hour')"
   ]
  },
  {
   "cell_type": "code",
   "execution_count": null,
   "metadata": {},
   "outputs": [],
   "source": [
    "l = dfm[dfm.community_name == 'Clairemont Mesa']\n",
    "from matplotlib.pyplot import xticks, xlabel, suptitle\n",
    "t = l.groupby([l.time.dt.dayofweek, l.time.dt.hour]).sum()\n",
    "fig, ax = plt.subplots(figsize=(8, 4)) \n",
    "ax = sns.heatmap(t[['count']].unstack(), ax=ax, cmap=\"BrBG\", center=0);\n",
    "locs, labels = xticks()\n",
    "xticks(locs, [ f'{e}' for e in range(24)]);\n",
    "xlabel(\"Hour\");\n",
    "suptitle(\"Pedestrian Flow\");"
   ]
  }
 ],
 "metadata": {
  "kernelspec": {
   "display_name": "Python 3",
   "language": "python",
   "name": "python3"
  },
  "language_info": {
   "codemirror_mode": {
    "name": "ipython",
    "version": 3
   },
   "file_extension": ".py",
   "mimetype": "text/x-python",
   "name": "python",
   "nbconvert_exporter": "python",
   "pygments_lexer": "ipython3",
   "version": "3.6.0"
  }
 },
 "nbformat": 4,
 "nbformat_minor": 2
}
