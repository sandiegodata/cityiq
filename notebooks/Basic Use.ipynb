{
 "cells": [
  {
   "cell_type": "code",
   "execution_count": 1,
   "metadata": {},
   "outputs": [],
   "source": [
    "import seaborn as sns\n",
    "import metapack as mp\n",
    "import pandas as pd\n",
    "import numpy as np\n",
    "import matplotlib.pyplot as plt\n",
    "from IPython.display import display \n",
    "\n",
    "%matplotlib inline\n",
    "sns.set_context('notebook')\n",
    "mp.jupyter.init()\n",
    "\n",
    "import cityiq\n",
    "\n",
    "\n",
    "try:\n",
    "    from pandas import json_normalize\n",
    "except ImportError:\n",
    "    from pandas.io.json import json_normalize\n"
   ]
  },
  {
   "cell_type": "markdown",
   "metadata": {},
   "source": [
    "# Using the CLI\n",
    "\n",
    "The first thing to do is set up yout config, with `ciq_config -w`, to write a new config file to the current directory, or `ciq_config -wu` to write it to your user directory as `~/.cityiq.yaml`. The default file has public credentials for the San Diego system, [which you may need to update from the San Diego system web page. ](https://www.sandiego.gov/sustainability/energy-and-water-efficiency/programs-projects/smart-city)\n",
    "\n",
    "After setting the clientid and password, look at the directories specified for the meta, object and errors case. Of these, the object case take the most space; for production work, it whould have at least 100GB free. \n",
    "\n",
    "The first thing we will do is extract some assets, which you can do with the `ciq_nodes` program. The following will list all of the cameras in the system and write it to a file, `cameras.csv`\n"
   ]
  },
  {
   "cell_type": "code",
   "execution_count": 2,
   "metadata": {},
   "outputs": [],
   "source": [
    "%%bash\n",
    "\n",
    "ciq_nodes --cameras -o cameras.csv --csv"
   ]
  },
  {
   "cell_type": "markdown",
   "metadata": {},
   "source": [
    "Because this file has a `geometry` column with the position of the asset in WKT format, you can filter this file with a GIS program. I've loaded this into QGIS and selected the points in the Downtown neighborhood, saving the selected points to `cameras-select.csv`. \n",
    "\n",
    "![GIS Select](gis_select.png)"
   ]
  },
  {
   "cell_type": "markdown",
   "metadata": {},
   "source": [
    "Now, we can scrape the revent for these files. THe following program will download BICYCLE events, for the assets in Pacific Beach, for January and March of 2020. "
   ]
  },
  {
   "cell_type": "code",
   "execution_count": 67,
   "metadata": {},
   "outputs": [
    {
     "name": "stdout",
     "output_type": "stream",
     "text": [
      "Using config: /Users/eric/.city-iq.yaml\n",
      "Using 156 assets\n",
      "Done\n"
     ]
    }
   ],
   "source": [
    "%%bash\n",
    "\n",
    "ciq_events -e BICYCLE -a cameras-select.csv -s 2020-01-01 -f 2020-03-01\n"
   ]
  },
  {
   "cell_type": "markdown",
   "metadata": {},
   "source": [
    "You can also run the program without the `-a cameras-select.csv`, which will process all of the assets in the system the emit BICYCLE events. "
   ]
  },
  {
   "cell_type": "markdown",
   "metadata": {},
   "source": [
    "The downloading puts the events in the cache, by default '/tmp/cityiq/objects/assets', stored in CSV file that contain one kind of event for one asset for one day.  You can extract those events from the cache into CSV files by adding '-O' to the command line that you used to screpe the events. The following will produce a directory with three files, one for each asset that generates BICYCLE events in Pacific Beach, in a directory named 'bicycle_2020-01-01_2020-03-01'.\n"
   ]
  },
  {
   "cell_type": "code",
   "execution_count": 4,
   "metadata": {},
   "outputs": [
    {
     "name": "stdout",
     "output_type": "stream",
     "text": [
      "Using config: /Users/eric/.city-iq.yaml\n",
      "Using 3 assets\n",
      "Done\n"
     ]
    },
    {
     "name": "stderr",
     "output_type": "stream",
     "text": [
      "Assets:   0%|          | 0/3 [00:00<?, ?it/s]\n",
      "Frames:   0%|          | 0/60 [00:00<?, ?it/s]\u001b[A\n",
      "Assets:  33%|███▎      | 1/3 [00:00<00:00,  9.89it/s]\n",
      "Frames:   0%|          | 0/60 [00:00<?, ?it/s]\u001b[A\n",
      "Frames:  23%|██▎       | 14/60 [00:00<00:00, 135.13it/s]\u001b[A\n",
      "Frames:  47%|████▋     | 28/60 [00:00<00:00, 133.73it/s]\u001b[A\n",
      "Frames:  70%|███████   | 42/60 [00:00<00:00, 132.84it/s]\u001b[A\n",
      "Frames:  93%|█████████▎| 56/60 [00:00<00:00, 133.72it/s]\u001b[A\n",
      "Assets:  67%|██████▋   | 2/3 [00:01<00:00,  1.64it/s]   \u001b[A\n",
      "Frames:   0%|          | 0/60 [00:00<?, ?it/s]\u001b[A\n",
      "Frames:  23%|██▎       | 14/60 [00:00<00:00, 129.76it/s]\u001b[A\n",
      "Frames:  45%|████▌     | 27/60 [00:00<00:00, 128.77it/s]\u001b[A\n",
      "Frames:  67%|██████▋   | 40/60 [00:00<00:00, 128.46it/s]\u001b[A\n",
      "Frames:  88%|████████▊ | 53/60 [00:00<00:00, 127.74it/s]\u001b[A\n",
      "Assets: 100%|██████████| 3/3 [00:03<00:00,  1.25s/it]   \u001b[A\n"
     ]
    }
   ],
   "source": [
    "%%bash \n",
    "\n",
    "ciq_events -e BICYCLE -a cameras-select.csv -s 2020-01-01 -f 2020-03-01 -O\n"
   ]
  },
  {
   "cell_type": "code",
   "execution_count": 5,
   "metadata": {},
   "outputs": [
    {
     "name": "stdout",
     "output_type": "stream",
     "text": [
      "total 2573040\n",
      "drwxr-xr-x   6 eric  staff         192 Jun  4 13:40 \u001b[1m\u001b[36m.\u001b[m\u001b[m\n",
      "drwxr-xr-x  11 eric  staff         352 Jun  4 13:53 \u001b[1m\u001b[36m..\u001b[m\u001b[m\n",
      "-rw-r--r--   1 eric  staff          11 Jun  4 13:55 2797aff7-dbf3-4139-8bc4-eda9c5f1305a.csv\n",
      "-rw-r--r--   1 eric  staff    27810759 Jun  4 13:55 bc4817ef-b826-4462-9d51-11b898da92f0.csv\n",
      "-rw-r--r--   1 eric  staff    29554726 Jun  4 13:55 c79924cb-86c2-4f99-9a62-4f612a4fe496.csv\n",
      "-rw-r--r--   1 eric  staff  1254098789 Jun  4 13:42 combined.csv\n"
     ]
    }
   ],
   "source": [
    "!ls -la bicycle_2020-01-01_2020-03-01 "
   ]
  },
  {
   "cell_type": "markdown",
   "metadata": {},
   "source": [
    "Now you can open these files directly. If there are a lot of them, you may be better off processing them with [dask](https://dask.org/). Or you can combine them in the shell with the following shell code. \n",
    "\n",
    "```bash\n",
    "cat  $(ls -1 | head -1) | head -n1 > combined.csv\n",
    "for f in *.csv; do cat \"`pwd`/$f\" | tail -n +2 >> combined.csv; done\n",
    "```\n",
    "\n",
    "\n",
    "But beware; these files can be very large, and any processing can take a long time. "
   ]
  },
  {
   "cell_type": "code",
   "execution_count": 6,
   "metadata": {},
   "outputs": [
    {
     "data": {
      "text/html": [
       "<div>\n",
       "<style scoped>\n",
       "    .dataframe tbody tr th:only-of-type {\n",
       "        vertical-align: middle;\n",
       "    }\n",
       "\n",
       "    .dataframe tbody tr th {\n",
       "        vertical-align: top;\n",
       "    }\n",
       "\n",
       "    .dataframe thead th {\n",
       "        text-align: right;\n",
       "    }\n",
       "</style>\n",
       "<table border=\"1\" class=\"dataframe\">\n",
       "  <thead>\n",
       "    <tr style=\"text-align: right;\">\n",
       "      <th></th>\n",
       "      <th>Unnamed: 0</th>\n",
       "      <th>locationUid</th>\n",
       "      <th>assetUid</th>\n",
       "      <th>eventType</th>\n",
       "      <th>timestamp</th>\n",
       "      <th>properties.directionUnit</th>\n",
       "      <th>properties.speedUnit</th>\n",
       "      <th>properties.eventUid</th>\n",
       "      <th>measures.bicycleCount</th>\n",
       "      <th>measures.counter_direction_speed</th>\n",
       "      <th>measures.counter_direction_bicycleCount</th>\n",
       "      <th>measures.counter_direction</th>\n",
       "      <th>measures.speed</th>\n",
       "      <th>measures.direction</th>\n",
       "    </tr>\n",
       "  </thead>\n",
       "  <tbody>\n",
       "    <tr>\n",
       "      <th>0</th>\n",
       "      <td>0</td>\n",
       "      <td>780b3ff2</td>\n",
       "      <td>bc4817ef-b826-4462-9d51-11b898da92f0</td>\n",
       "      <td>BICYCLE</td>\n",
       "      <td>2020-01-01 00:00:11-08:00</td>\n",
       "      <td>DEGREE</td>\n",
       "      <td>METERS_PER_SEC</td>\n",
       "      <td>MTU3Nzg2NTYxMTAwMA==</td>\n",
       "      <td>0.0</td>\n",
       "      <td>0.0</td>\n",
       "      <td>0.0</td>\n",
       "      <td>265.0</td>\n",
       "      <td>0.0</td>\n",
       "      <td>85.0</td>\n",
       "    </tr>\n",
       "    <tr>\n",
       "      <th>1</th>\n",
       "      <td>1</td>\n",
       "      <td>780b3ff2</td>\n",
       "      <td>bc4817ef-b826-4462-9d51-11b898da92f0</td>\n",
       "      <td>BICYCLE</td>\n",
       "      <td>2020-01-01 00:00:41.057000-08:00</td>\n",
       "      <td>DEGREE</td>\n",
       "      <td>METERS_PER_SEC</td>\n",
       "      <td>MTU3Nzg2NTY0MTA1Nw==</td>\n",
       "      <td>0.0</td>\n",
       "      <td>0.0</td>\n",
       "      <td>0.0</td>\n",
       "      <td>265.0</td>\n",
       "      <td>0.0</td>\n",
       "      <td>85.0</td>\n",
       "    </tr>\n",
       "    <tr>\n",
       "      <th>2</th>\n",
       "      <td>2</td>\n",
       "      <td>780b3ff2</td>\n",
       "      <td>bc4817ef-b826-4462-9d51-11b898da92f0</td>\n",
       "      <td>BICYCLE</td>\n",
       "      <td>2020-01-01 00:01:11.248000-08:00</td>\n",
       "      <td>DEGREE</td>\n",
       "      <td>METERS_PER_SEC</td>\n",
       "      <td>MTU3Nzg2NTY3MTI0OA==</td>\n",
       "      <td>0.0</td>\n",
       "      <td>0.0</td>\n",
       "      <td>0.0</td>\n",
       "      <td>265.0</td>\n",
       "      <td>0.0</td>\n",
       "      <td>85.0</td>\n",
       "    </tr>\n",
       "    <tr>\n",
       "      <th>3</th>\n",
       "      <td>3</td>\n",
       "      <td>780b3ff2</td>\n",
       "      <td>bc4817ef-b826-4462-9d51-11b898da92f0</td>\n",
       "      <td>BICYCLE</td>\n",
       "      <td>2020-01-01 00:01:41.306000-08:00</td>\n",
       "      <td>DEGREE</td>\n",
       "      <td>METERS_PER_SEC</td>\n",
       "      <td>MTU3Nzg2NTcwMTMwNg==</td>\n",
       "      <td>0.0</td>\n",
       "      <td>0.0</td>\n",
       "      <td>0.0</td>\n",
       "      <td>265.0</td>\n",
       "      <td>0.0</td>\n",
       "      <td>85.0</td>\n",
       "    </tr>\n",
       "    <tr>\n",
       "      <th>4</th>\n",
       "      <td>4</td>\n",
       "      <td>780b3ff2</td>\n",
       "      <td>bc4817ef-b826-4462-9d51-11b898da92f0</td>\n",
       "      <td>BICYCLE</td>\n",
       "      <td>2020-01-01 00:02:11.363000-08:00</td>\n",
       "      <td>DEGREE</td>\n",
       "      <td>METERS_PER_SEC</td>\n",
       "      <td>MTU3Nzg2NTczMTM2Mw==</td>\n",
       "      <td>0.0</td>\n",
       "      <td>0.0</td>\n",
       "      <td>0.0</td>\n",
       "      <td>265.0</td>\n",
       "      <td>0.0</td>\n",
       "      <td>85.0</td>\n",
       "    </tr>\n",
       "  </tbody>\n",
       "</table>\n",
       "</div>"
      ],
      "text/plain": [
       "   Unnamed: 0 locationUid                              assetUid eventType  \\\n",
       "0           0    780b3ff2  bc4817ef-b826-4462-9d51-11b898da92f0   BICYCLE   \n",
       "1           1    780b3ff2  bc4817ef-b826-4462-9d51-11b898da92f0   BICYCLE   \n",
       "2           2    780b3ff2  bc4817ef-b826-4462-9d51-11b898da92f0   BICYCLE   \n",
       "3           3    780b3ff2  bc4817ef-b826-4462-9d51-11b898da92f0   BICYCLE   \n",
       "4           4    780b3ff2  bc4817ef-b826-4462-9d51-11b898da92f0   BICYCLE   \n",
       "\n",
       "                         timestamp properties.directionUnit  \\\n",
       "0        2020-01-01 00:00:11-08:00                   DEGREE   \n",
       "1 2020-01-01 00:00:41.057000-08:00                   DEGREE   \n",
       "2 2020-01-01 00:01:11.248000-08:00                   DEGREE   \n",
       "3 2020-01-01 00:01:41.306000-08:00                   DEGREE   \n",
       "4 2020-01-01 00:02:11.363000-08:00                   DEGREE   \n",
       "\n",
       "  properties.speedUnit   properties.eventUid  measures.bicycleCount  \\\n",
       "0       METERS_PER_SEC  MTU3Nzg2NTYxMTAwMA==                    0.0   \n",
       "1       METERS_PER_SEC  MTU3Nzg2NTY0MTA1Nw==                    0.0   \n",
       "2       METERS_PER_SEC  MTU3Nzg2NTY3MTI0OA==                    0.0   \n",
       "3       METERS_PER_SEC  MTU3Nzg2NTcwMTMwNg==                    0.0   \n",
       "4       METERS_PER_SEC  MTU3Nzg2NTczMTM2Mw==                    0.0   \n",
       "\n",
       "   measures.counter_direction_speed  measures.counter_direction_bicycleCount  \\\n",
       "0                               0.0                                      0.0   \n",
       "1                               0.0                                      0.0   \n",
       "2                               0.0                                      0.0   \n",
       "3                               0.0                                      0.0   \n",
       "4                               0.0                                      0.0   \n",
       "\n",
       "   measures.counter_direction  measures.speed  measures.direction  \n",
       "0                       265.0             0.0                85.0  \n",
       "1                       265.0             0.0                85.0  \n",
       "2                       265.0             0.0                85.0  \n",
       "3                       265.0             0.0                85.0  \n",
       "4                       265.0             0.0                85.0  "
      ]
     },
     "execution_count": 6,
     "metadata": {},
     "output_type": "execute_result"
    }
   ],
   "source": [
    "df = pd.read_csv('bicycle_2020-01-01_2020-03-01/bc4817ef-b826-4462-9d51-11b898da92f0.csv', index_col=False, parse_dates=['timestamp'])\n",
    "df.head()"
   ]
  },
  {
   "cell_type": "code",
   "execution_count": 7,
   "metadata": {},
   "outputs": [
    {
     "data": {
      "text/plain": [
       "count    5760.0\n",
       "mean        0.0\n",
       "std         0.0\n",
       "min         0.0\n",
       "25%         0.0\n",
       "50%         0.0\n",
       "75%         0.0\n",
       "max         0.0\n",
       "Name: measures.bicycleCount, dtype: float64"
      ]
     },
     "execution_count": 7,
     "metadata": {},
     "output_type": "execute_result"
    }
   ],
   "source": [
    "t = df[['timestamp', 'locationUid', 'measures.counter_direction_bicycleCount','measures.bicycleCount']]\\\n",
    "    .set_index('timestamp').groupby(pd.Grouper(freq='15T')).sum()\n",
    "\n",
    "t['measures.bicycleCount'].describe()"
   ]
  },
  {
   "cell_type": "markdown",
   "metadata": {},
   "source": [
    "Unfortunately, the sensors in Pacific Beach aren't producing events ... but the the same technique will work for those that are. "
   ]
  },
  {
   "cell_type": "markdown",
   "metadata": {},
   "source": [
    "# Using the API"
   ]
  },
  {
   "cell_type": "markdown",
   "metadata": {},
   "source": [
    "To use the Python  API, start by creating a client. This will use the default configuration, either in `~/.cityiq.yaml` in the user's home directory or 'cityiq.yaml' in the current directory. Here you can see it using the user's directory config file. "
   ]
  },
  {
   "cell_type": "code",
   "execution_count": 8,
   "metadata": {},
   "outputs": [
    {
     "data": {
      "text/plain": [
       "'/Users/eric/.city-iq.yaml'"
      ]
     },
     "execution_count": 8,
     "metadata": {},
     "output_type": "execute_result"
    }
   ],
   "source": [
    "c = cityiq.CityIq()\n",
    "c.config.which"
   ]
  },
  {
   "cell_type": "markdown",
   "metadata": {},
   "source": [
    "Assets can be loaded into a Geopandas GeoDataFrame, which allows for plotting their position and going geographic joins. "
   ]
  },
  {
   "cell_type": "code",
   "execution_count": 56,
   "metadata": {},
   "outputs": [
    {
     "data": {
      "text/plain": [
       "<matplotlib.axes._subplots.AxesSubplot at 0x7fc869432588>"
      ]
     },
     "execution_count": 56,
     "metadata": {},
     "output_type": "execute_result"
    },
    {
     "data": {
      "image/png": "[encoded data removed]",
      "text/plain": [
       "<Figure size 432x288 with 1 Axes>"
      ]
     },
     "metadata": {
      "needs_background": "light"
     },
     "output_type": "display_data"
    }
   ],
   "source": [
    "import geopandas as gpd\n",
    "a = [a.as_dict() for a in c.assets_by_event('BICYCLE')]\n",
    "\n",
    "bike_assets = gpd.GeoDataFrame(a).set_geometry('geometry')\n",
    "\n",
    "gdf.plot();\n"
   ]
  },
  {
   "cell_type": "markdown",
   "metadata": {},
   "source": [
    "Loading in the boundaries of San Diego communities allows us to do a geographic join, to determine what neighborhoods the resources are in. "
   ]
  },
  {
   "cell_type": "code",
   "execution_count": 55,
   "metadata": {},
   "outputs": [
    {
     "data": {
      "text/plain": [
       "<matplotlib.axes._subplots.AxesSubplot at 0x7fc882f5bbe0>"
      ]
     },
     "execution_count": 55,
     "metadata": {},
     "output_type": "execute_result"
    },
    {
     "data": {
      "image/png": "[encoded data removed]",
      "text/plain": [
       "<Figure size 432x288 with 1 Axes>"
      ]
     },
     "metadata": {
      "needs_background": "light"
     },
     "output_type": "display_data"
    }
   ],
   "source": [
    "pkg = mp.open_package('http://library.metatab.org/sandiegodata.org-geography-2018-13.zip')\n",
    "communities = pkg.resource('sd_community_boundaries').geoframe()\n",
    "communities.plot()"
   ]
  },
  {
   "cell_type": "markdown",
   "metadata": {},
   "source": [
    "Apparently, all of the cameras that record BICYCLE events are in the downtown area. "
   ]
  },
  {
   "cell_type": "code",
   "execution_count": 64,
   "metadata": {},
   "outputs": [
    {
     "data": {
      "text/plain": [
       "array(['Downtown'], dtype=object)"
      ]
     },
     "execution_count": 64,
     "metadata": {},
     "output_type": "execute_result"
    }
   ],
   "source": [
    "bike_assets.crs = communities.crs # Because it was created with a CRS\n",
    "bac =gpd.sjoin(bike_assets, communities).head()\n",
    "bac.name.unique()"
   ]
  },
  {
   "cell_type": "markdown",
   "metadata": {},
   "source": [
    "# Fetching Events"
   ]
  },
  {
   "cell_type": "code",
   "execution_count": null,
   "metadata": {},
   "outputs": [],
   "source": [
    "bike"
   ]
  },
  {
   "cell_type": "code",
   "execution_count": 13,
   "metadata": {},
   "outputs": [
    {
     "name": "stdout",
     "output_type": "stream",
     "text": [
      "CPU times: user 246 ms, sys: 22 ms, total: 268 ms\n",
      "Wall time: 51.4 ms\n"
     ]
    }
   ],
   "source": [
    "%%time\n",
    "t = df[['timestamp', 'locationUid', 'measures.counter_direction_bicycleCount','measures.bicycleCount']]\\\n",
    "    .set_index('timestamp').groupby(['locationUid',pd.Grouper(freq='15T')]).sum().reset_index()\n",
    "t.columns = ['locationUid', 'timestamp', 'bike_count_counter', 'bike_count']"
   ]
  },
  {
   "cell_type": "code",
   "execution_count": 14,
   "metadata": {},
   "outputs": [
    {
     "data": {
      "text/html": [
       "<div>\n",
       "<style scoped>\n",
       "    .dataframe tbody tr th:only-of-type {\n",
       "        vertical-align: middle;\n",
       "    }\n",
       "\n",
       "    .dataframe tbody tr th {\n",
       "        vertical-align: top;\n",
       "    }\n",
       "\n",
       "    .dataframe thead th {\n",
       "        text-align: right;\n",
       "    }\n",
       "</style>\n",
       "<table border=\"1\" class=\"dataframe\">\n",
       "  <thead>\n",
       "    <tr style=\"text-align: right;\">\n",
       "      <th></th>\n",
       "      <th>locationUid</th>\n",
       "      <th>timestamp</th>\n",
       "      <th>bike_count_counter</th>\n",
       "      <th>bike_count</th>\n",
       "      <th>bc</th>\n",
       "    </tr>\n",
       "  </thead>\n",
       "  <tbody>\n",
       "    <tr>\n",
       "      <th>0</th>\n",
       "      <td>780b3ff2</td>\n",
       "      <td>2020-01-01 00:00:00-08:00</td>\n",
       "      <td>0.0</td>\n",
       "      <td>0.0</td>\n",
       "      <td>0.0</td>\n",
       "    </tr>\n",
       "    <tr>\n",
       "      <th>1</th>\n",
       "      <td>780b3ff2</td>\n",
       "      <td>2020-01-01 00:15:00-08:00</td>\n",
       "      <td>0.0</td>\n",
       "      <td>0.0</td>\n",
       "      <td>0.0</td>\n",
       "    </tr>\n",
       "    <tr>\n",
       "      <th>2</th>\n",
       "      <td>780b3ff2</td>\n",
       "      <td>2020-01-01 00:30:00-08:00</td>\n",
       "      <td>0.0</td>\n",
       "      <td>0.0</td>\n",
       "      <td>0.0</td>\n",
       "    </tr>\n",
       "    <tr>\n",
       "      <th>3</th>\n",
       "      <td>780b3ff2</td>\n",
       "      <td>2020-01-01 00:45:00-08:00</td>\n",
       "      <td>0.0</td>\n",
       "      <td>0.0</td>\n",
       "      <td>0.0</td>\n",
       "    </tr>\n",
       "    <tr>\n",
       "      <th>4</th>\n",
       "      <td>780b3ff2</td>\n",
       "      <td>2020-01-01 01:00:00-08:00</td>\n",
       "      <td>0.0</td>\n",
       "      <td>0.0</td>\n",
       "      <td>0.0</td>\n",
       "    </tr>\n",
       "  </tbody>\n",
       "</table>\n",
       "</div>"
      ],
      "text/plain": [
       "  locationUid                 timestamp  bike_count_counter  bike_count   bc\n",
       "0    780b3ff2 2020-01-01 00:00:00-08:00                 0.0         0.0  0.0\n",
       "1    780b3ff2 2020-01-01 00:15:00-08:00                 0.0         0.0  0.0\n",
       "2    780b3ff2 2020-01-01 00:30:00-08:00                 0.0         0.0  0.0\n",
       "3    780b3ff2 2020-01-01 00:45:00-08:00                 0.0         0.0  0.0\n",
       "4    780b3ff2 2020-01-01 01:00:00-08:00                 0.0         0.0  0.0"
      ]
     },
     "execution_count": 14,
     "metadata": {},
     "output_type": "execute_result"
    }
   ],
   "source": [
    "t['bc'] = t.bike_count_counter + t.bike_count_counter\n",
    "t.head()"
   ]
  },
  {
   "cell_type": "code",
   "execution_count": 15,
   "metadata": {},
   "outputs": [
    {
     "data": {
      "text/plain": [
       "locationUid\n",
       "780b3ff2    0.0\n",
       "Name: bc, dtype: float64"
      ]
     },
     "execution_count": 15,
     "metadata": {},
     "output_type": "execute_result"
    }
   ],
   "source": [
    "t.groupby('locationUid').bc.sum().sort_values(ascending=False).head(30)"
   ]
  },
  {
   "cell_type": "code",
   "execution_count": 16,
   "metadata": {},
   "outputs": [
    {
     "ename": "TypeError",
     "evalue": "no numeric data to plot",
     "output_type": "error",
     "traceback": [
      "\u001b[0;31m---------------------------------------------------------------------------\u001b[0m",
      "\u001b[0;31mTypeError\u001b[0m                                 Traceback (most recent call last)",
      "\u001b[0;32m<ipython-input-16-b3479dcca8e9>\u001b[0m in \u001b[0;36m<module>\u001b[0;34m()\u001b[0m\n\u001b[1;32m      5\u001b[0m \u001b[0mtl\u001b[0m\u001b[0;34m[\u001b[0m\u001b[0;34m'date'\u001b[0m\u001b[0;34m]\u001b[0m \u001b[0;34m=\u001b[0m \u001b[0mtl\u001b[0m\u001b[0;34m.\u001b[0m\u001b[0mtimestamp\u001b[0m\u001b[0;34m.\u001b[0m\u001b[0mdt\u001b[0m\u001b[0;34m.\u001b[0m\u001b[0mdate\u001b[0m\u001b[0;34m\u001b[0m\u001b[0;34m\u001b[0m\u001b[0m\n\u001b[1;32m      6\u001b[0m \u001b[0mtl\u001b[0m \u001b[0;34m=\u001b[0m \u001b[0mtl\u001b[0m\u001b[0;34m.\u001b[0m\u001b[0mgroupby\u001b[0m\u001b[0;34m(\u001b[0m\u001b[0;34m'date'\u001b[0m\u001b[0;34m)\u001b[0m\u001b[0;34m.\u001b[0m\u001b[0msum\u001b[0m\u001b[0;34m(\u001b[0m\u001b[0;34m)\u001b[0m\u001b[0;34m\u001b[0m\u001b[0;34m\u001b[0m\u001b[0m\n\u001b[0;32m----> 7\u001b[0;31m \u001b[0mtl\u001b[0m\u001b[0;34m.\u001b[0m\u001b[0mbc\u001b[0m\u001b[0;34m.\u001b[0m\u001b[0mplot\u001b[0m\u001b[0;34m(\u001b[0m\u001b[0max\u001b[0m\u001b[0;34m=\u001b[0m\u001b[0max\u001b[0m\u001b[0;34m)\u001b[0m\u001b[0;34m\u001b[0m\u001b[0;34m\u001b[0m\u001b[0m\n\u001b[0m",
      "\u001b[0;32m~/opt/anaconda3/envs/data/lib/python3.6/site-packages/pandas/plotting/_core.py\u001b[0m in \u001b[0;36m__call__\u001b[0;34m(self, *args, **kwargs)\u001b[0m\n\u001b[1;32m    792\u001b[0m                     \u001b[0mdata\u001b[0m\u001b[0;34m.\u001b[0m\u001b[0mcolumns\u001b[0m \u001b[0;34m=\u001b[0m \u001b[0mlabel_name\u001b[0m\u001b[0;34m\u001b[0m\u001b[0;34m\u001b[0m\u001b[0m\n\u001b[1;32m    793\u001b[0m \u001b[0;34m\u001b[0m\u001b[0m\n\u001b[0;32m--> 794\u001b[0;31m         \u001b[0;32mreturn\u001b[0m \u001b[0mplot_backend\u001b[0m\u001b[0;34m.\u001b[0m\u001b[0mplot\u001b[0m\u001b[0;34m(\u001b[0m\u001b[0mdata\u001b[0m\u001b[0;34m,\u001b[0m \u001b[0mkind\u001b[0m\u001b[0;34m=\u001b[0m\u001b[0mkind\u001b[0m\u001b[0;34m,\u001b[0m \u001b[0;34m**\u001b[0m\u001b[0mkwargs\u001b[0m\u001b[0;34m)\u001b[0m\u001b[0;34m\u001b[0m\u001b[0;34m\u001b[0m\u001b[0m\n\u001b[0m\u001b[1;32m    795\u001b[0m \u001b[0;34m\u001b[0m\u001b[0m\n\u001b[1;32m    796\u001b[0m     \u001b[0;32mdef\u001b[0m \u001b[0mline\u001b[0m\u001b[0;34m(\u001b[0m\u001b[0mself\u001b[0m\u001b[0;34m,\u001b[0m \u001b[0mx\u001b[0m\u001b[0;34m=\u001b[0m\u001b[0;32mNone\u001b[0m\u001b[0;34m,\u001b[0m \u001b[0my\u001b[0m\u001b[0;34m=\u001b[0m\u001b[0;32mNone\u001b[0m\u001b[0;34m,\u001b[0m \u001b[0;34m**\u001b[0m\u001b[0mkwargs\u001b[0m\u001b[0;34m)\u001b[0m\u001b[0;34m:\u001b[0m\u001b[0;34m\u001b[0m\u001b[0;34m\u001b[0m\u001b[0m\n",
      "\u001b[0;32m~/opt/anaconda3/envs/data/lib/python3.6/site-packages/pandas/plotting/_matplotlib/__init__.py\u001b[0m in \u001b[0;36mplot\u001b[0;34m(data, kind, **kwargs)\u001b[0m\n\u001b[1;32m     60\u001b[0m             \u001b[0mkwargs\u001b[0m\u001b[0;34m[\u001b[0m\u001b[0;34m\"ax\"\u001b[0m\u001b[0;34m]\u001b[0m \u001b[0;34m=\u001b[0m \u001b[0mgetattr\u001b[0m\u001b[0;34m(\u001b[0m\u001b[0max\u001b[0m\u001b[0;34m,\u001b[0m \u001b[0;34m\"left_ax\"\u001b[0m\u001b[0;34m,\u001b[0m \u001b[0max\u001b[0m\u001b[0;34m)\u001b[0m\u001b[0;34m\u001b[0m\u001b[0;34m\u001b[0m\u001b[0m\n\u001b[1;32m     61\u001b[0m     \u001b[0mplot_obj\u001b[0m \u001b[0;34m=\u001b[0m \u001b[0mPLOT_CLASSES\u001b[0m\u001b[0;34m[\u001b[0m\u001b[0mkind\u001b[0m\u001b[0;34m]\u001b[0m\u001b[0;34m(\u001b[0m\u001b[0mdata\u001b[0m\u001b[0;34m,\u001b[0m \u001b[0;34m**\u001b[0m\u001b[0mkwargs\u001b[0m\u001b[0;34m)\u001b[0m\u001b[0;34m\u001b[0m\u001b[0;34m\u001b[0m\u001b[0m\n\u001b[0;32m---> 62\u001b[0;31m     \u001b[0mplot_obj\u001b[0m\u001b[0;34m.\u001b[0m\u001b[0mgenerate\u001b[0m\u001b[0;34m(\u001b[0m\u001b[0;34m)\u001b[0m\u001b[0;34m\u001b[0m\u001b[0;34m\u001b[0m\u001b[0m\n\u001b[0m\u001b[1;32m     63\u001b[0m     \u001b[0mplot_obj\u001b[0m\u001b[0;34m.\u001b[0m\u001b[0mdraw\u001b[0m\u001b[0;34m(\u001b[0m\u001b[0;34m)\u001b[0m\u001b[0;34m\u001b[0m\u001b[0;34m\u001b[0m\u001b[0m\n\u001b[1;32m     64\u001b[0m     \u001b[0;32mreturn\u001b[0m \u001b[0mplot_obj\u001b[0m\u001b[0;34m.\u001b[0m\u001b[0mresult\u001b[0m\u001b[0;34m\u001b[0m\u001b[0;34m\u001b[0m\u001b[0m\n",
      "\u001b[0;32m~/opt/anaconda3/envs/data/lib/python3.6/site-packages/pandas/plotting/_matplotlib/core.py\u001b[0m in \u001b[0;36mgenerate\u001b[0;34m(self)\u001b[0m\n\u001b[1;32m    277\u001b[0m     \u001b[0;32mdef\u001b[0m \u001b[0mgenerate\u001b[0m\u001b[0;34m(\u001b[0m\u001b[0mself\u001b[0m\u001b[0;34m)\u001b[0m\u001b[0;34m:\u001b[0m\u001b[0;34m\u001b[0m\u001b[0;34m\u001b[0m\u001b[0m\n\u001b[1;32m    278\u001b[0m         \u001b[0mself\u001b[0m\u001b[0;34m.\u001b[0m\u001b[0m_args_adjust\u001b[0m\u001b[0;34m(\u001b[0m\u001b[0;34m)\u001b[0m\u001b[0;34m\u001b[0m\u001b[0;34m\u001b[0m\u001b[0m\n\u001b[0;32m--> 279\u001b[0;31m         \u001b[0mself\u001b[0m\u001b[0;34m.\u001b[0m\u001b[0m_compute_plot_data\u001b[0m\u001b[0;34m(\u001b[0m\u001b[0;34m)\u001b[0m\u001b[0;34m\u001b[0m\u001b[0;34m\u001b[0m\u001b[0m\n\u001b[0m\u001b[1;32m    280\u001b[0m         \u001b[0mself\u001b[0m\u001b[0;34m.\u001b[0m\u001b[0m_setup_subplots\u001b[0m\u001b[0;34m(\u001b[0m\u001b[0;34m)\u001b[0m\u001b[0;34m\u001b[0m\u001b[0;34m\u001b[0m\u001b[0m\n\u001b[1;32m    281\u001b[0m         \u001b[0mself\u001b[0m\u001b[0;34m.\u001b[0m\u001b[0m_make_plot\u001b[0m\u001b[0;34m(\u001b[0m\u001b[0;34m)\u001b[0m\u001b[0;34m\u001b[0m\u001b[0;34m\u001b[0m\u001b[0m\n",
      "\u001b[0;32m~/opt/anaconda3/envs/data/lib/python3.6/site-packages/pandas/plotting/_matplotlib/core.py\u001b[0m in \u001b[0;36m_compute_plot_data\u001b[0;34m(self)\u001b[0m\n\u001b[1;32m    412\u001b[0m         \u001b[0;31m# no non-numeric frames or series allowed\u001b[0m\u001b[0;34m\u001b[0m\u001b[0;34m\u001b[0m\u001b[0;34m\u001b[0m\u001b[0m\n\u001b[1;32m    413\u001b[0m         \u001b[0;32mif\u001b[0m \u001b[0mis_empty\u001b[0m\u001b[0;34m:\u001b[0m\u001b[0;34m\u001b[0m\u001b[0;34m\u001b[0m\u001b[0m\n\u001b[0;32m--> 414\u001b[0;31m             \u001b[0;32mraise\u001b[0m \u001b[0mTypeError\u001b[0m\u001b[0;34m(\u001b[0m\u001b[0;34m\"no numeric data to plot\"\u001b[0m\u001b[0;34m)\u001b[0m\u001b[0;34m\u001b[0m\u001b[0;34m\u001b[0m\u001b[0m\n\u001b[0m\u001b[1;32m    415\u001b[0m \u001b[0;34m\u001b[0m\u001b[0m\n\u001b[1;32m    416\u001b[0m         \u001b[0;31m# GH25587: cast ExtensionArray of pandas (IntegerArray, etc.) to\u001b[0m\u001b[0;34m\u001b[0m\u001b[0;34m\u001b[0m\u001b[0;34m\u001b[0m\u001b[0m\n",
      "\u001b[0;31mTypeError\u001b[0m: no numeric data to plot"
     ]
    },
    {
     "data": {
      "image/png": "[encoded data removed]",
      "text/plain": [
       "<Figure size 1440x720 with 1 Axes>"
      ]
     },
     "metadata": {
      "needs_background": "light"
     },
     "output_type": "display_data"
    }
   ],
   "source": [
    "fig, ax = plt.subplots(figsize=(20,10))  \n",
    "\n",
    "tl = t[t.locationUid == 'xx4x7o00c4mk5fo4but'].copy()\n",
    "tl['time'] = tl.timestamp.dt.time\n",
    "tl['date'] = tl.timestamp.dt.date\n",
    "tl = tl.groupby('date').sum()\n",
    "tl.bc.plot(ax=ax)"
   ]
  },
  {
   "cell_type": "code",
   "execution_count": null,
   "metadata": {},
   "outputs": [],
   "source": [
    "%%time\n",
    "td = df[['timestamp', 'locationUid', 'measures.counter_direction_bicycleCount','measures.bicycleCount']]\\\n",
    "    .set_index('timestamp').groupby(['locationUid',pd.Grouper(freq='D')]).sum().reset_index()\n",
    "td.columns = ['locationUid', 'timestamp', 'bike_count_counter', 'bike_count']\n",
    "len(td)"
   ]
  },
  {
   "cell_type": "code",
   "execution_count": null,
   "metadata": {},
   "outputs": [],
   "source": [
    "td.groupby('locationUid').bc.sum().sort_values(ascending=False).head(20)"
   ]
  },
  {
   "cell_type": "code",
   "execution_count": null,
   "metadata": {},
   "outputs": [],
   "source": [
    "fig, ax = plt.subplots(figsize=(20,10))  \n",
    "td['bc'] = td.bike_count_counter + td.bike_count_counter\n",
    "tl = td[td.locationUid == 'ndy4qdunwwmk1mhv26k'].set_index('timestamp').copy()\n",
    "tl.bc.plot(ax=ax)"
   ]
  },
  {
   "cell_type": "code",
   "execution_count": null,
   "metadata": {},
   "outputs": [],
   "source": [
    "import cityiq\n",
    "from datetime import date, datetime \n",
    "c = cityiq.CityIq()"
   ]
  },
  {
   "cell_type": "code",
   "execution_count": null,
   "metadata": {},
   "outputs": [],
   "source": [
    "datetime.min.time()"
   ]
  },
  {
   "cell_type": "code",
   "execution_count": null,
   "metadata": {},
   "outputs": [],
   "source": []
  }
 ],
 "metadata": {
  "kernelspec": {
   "display_name": "Python 3",
   "language": "python",
   "name": "python3"
  },
  "language_info": {
   "codemirror_mode": {
    "name": "ipython",
    "version": 3
   },
   "file_extension": ".py",
   "mimetype": "text/x-python",
   "name": "python",
   "nbconvert_exporter": "python",
   "pygments_lexer": "ipython3",
   "version": "3.6.9"
  }
 },
 "nbformat": 4,
 "nbformat_minor": 4
}
