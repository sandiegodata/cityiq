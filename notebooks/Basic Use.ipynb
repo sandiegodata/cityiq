{
 "cells": [
  {
   "cell_type": "code",
   "execution_count": 1,
   "metadata": {},
   "outputs": [],
   "source": [
    "import seaborn as sns\n",
    "import metapack as mp\n",
    "import pandas as pd\n",
    "import numpy as np\n",
    "import matplotlib.pyplot as plt\n",
    "from IPython.display import display \n",
    "\n",
    "%matplotlib inline\n",
    "sns.set_context('notebook')\n",
    "mp.jupyter.init()\n",
    "\n",
    "import cityiq\n",
    "\n",
    "\n",
    "try:\n",
    "    from pandas import json_normalize\n",
    "except ImportError:\n",
    "    from pandas.io.json import json_normalize\n"
   ]
  },
  {
   "cell_type": "code",
   "execution_count": 2,
   "metadata": {},
   "outputs": [
    {
     "data": {
      "text/plain": [
       "'/Users/eric/.city-iq.yaml'"
      ]
     },
     "execution_count": 2,
     "metadata": {},
     "output_type": "execute_result"
    }
   ],
   "source": [
    "c = cityiq.CityIq()\n",
    "c.config.which"
   ]
  },
  {
   "cell_type": "code",
   "execution_count": 3,
   "metadata": {},
   "outputs": [
    {
     "data": {
      "text/plain": [
       "21159"
      ]
     },
     "execution_count": 3,
     "metadata": {},
     "output_type": "execute_result"
    }
   ],
   "source": [
    "len(c.assets) # Will be slow the first time"
   ]
  },
  {
   "cell_type": "code",
   "execution_count": 4,
   "metadata": {},
   "outputs": [
    {
     "data": {
      "text/plain": [
       "5506"
      ]
     },
     "execution_count": 4,
     "metadata": {},
     "output_type": "execute_result"
    }
   ],
   "source": [
    "len(c.locations) "
   ]
  },
  {
   "cell_type": "code",
   "execution_count": null,
   "metadata": {},
   "outputs": [
    {
     "name": "stderr",
     "output_type": "stream",
     "text": [
      " 23%|██▎       | 1639/7037 [01:16<04:23, 20.47it/s]"
     ]
    }
   ],
   "source": [
    "# Get all BICYCLE events for this year. \n",
    "# This will produce about 33K download tasks, and take around 20 minutes to download. \n",
    "# for the first run. The first run will cache requests, so subsequent runs will be faster. \n",
    "\n",
    "from cityiq.task import DownloadDataframeTask\n",
    "\n",
    "events = ['BICYCLE'] # '['PKIN', 'PKOUT']\n",
    "\n",
    "assets = list(c.assets_by_event(events)) # Get all assets that have the Bicycle event\n",
    "\n",
    "tasks = c.make_tasks(DownloadDataframeTask, assets, events, '2020-01-01', '2020-02-01') # Generate download tasks, 1 per asset/day/event type\n",
    "\n",
    "frames = [result for task, result in c.run_async(tasks, workers=5)]\n",
    "\n",
    "df = pd.concat(frames)\n",
    "        \n",
    "df.head()\n",
    "\n",
    "df['timestamp'] = pd.to_datetime(df.timestamp, unit='ms')\n",
    "\n"
   ]
  },
  {
   "cell_type": "code",
   "execution_count": null,
   "metadata": {},
   "outputs": [],
   "source": [
    "len(df) "
   ]
  },
  {
   "cell_type": "code",
   "execution_count": null,
   "metadata": {},
   "outputs": [],
   "source": [
    "df.head().T"
   ]
  },
  {
   "cell_type": "code",
   "execution_count": null,
   "metadata": {},
   "outputs": [],
   "source": []
  }
 ],
 "metadata": {
  "kernelspec": {
   "display_name": "Python 3",
   "language": "python",
   "name": "python3"
  },
  "language_info": {
   "codemirror_mode": {
    "name": "ipython",
    "version": 3
   },
   "file_extension": ".py",
   "mimetype": "text/x-python",
   "name": "python",
   "nbconvert_exporter": "python",
   "pygments_lexer": "ipython3",
   "version": "3.6.9"
  }
 },
 "nbformat": 4,
 "nbformat_minor": 4
}
